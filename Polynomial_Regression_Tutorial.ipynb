{
  "nbformat": 4,
  "nbformat_minor": 0,
  "metadata": {
    "colab": {
      "name": "Polynomial Regression Tutorial.ipynb",
      "provenance": []
    },
    "kernelspec": {
      "name": "python3",
      "display_name": "Python 3"
    },
    "accelerator": "GPU"
  },
  "cells": [
    {
      "cell_type": "markdown",
      "metadata": {
        "id": "O_JgtFJX9CHd",
        "colab_type": "text"
      },
      "source": [
        "### **Part 1: Polynomial Regression on generated Database**"
      ]
    },
    {
      "cell_type": "markdown",
      "metadata": {
        "id": "c1PsLspKAfyF",
        "colab_type": "text"
      },
      "source": [
        "### Importing libraries\n",
        "We are using some libraries in this project including numpy, matplotlib and scikit-learn"
      ]
    },
    {
      "cell_type": "code",
      "metadata": {
        "id": "zYDv_k6mU40E",
        "colab_type": "code",
        "colab": {
          "base_uri": "https://localhost:8080/",
          "height": 62
        },
        "outputId": "9c4b8d24-e90e-4189-ef6b-d8ce0ee57469"
      },
      "source": [
        "import numpy as np\n",
        "import matplotlib.pyplot as plt\n",
        "import tensorflow as tf\n",
        "import operator\n",
        "from sklearn.metrics import mean_squared_error, r2_score\n",
        "import pandas as pd"
      ],
      "execution_count": 1,
      "outputs": [
        {
          "output_type": "display_data",
          "data": {
            "text/html": [
              "<p style=\"color: red;\">\n",
              "The default version of TensorFlow in Colab will soon switch to TensorFlow 2.x.<br>\n",
              "We recommend you <a href=\"https://www.tensorflow.org/guide/migrate\" target=\"_blank\">upgrade</a> now \n",
              "or ensure your notebook will continue to use TensorFlow 1.x via the <code>%tensorflow_version 1.x</code> magic:\n",
              "<a href=\"https://colab.research.google.com/notebooks/tensorflow_version.ipynb\" target=\"_blank\">more info</a>.</p>\n"
            ],
            "text/plain": [
              "<IPython.core.display.HTML object>"
            ]
          },
          "metadata": {
            "tags": []
          }
        }
      ]
    },
    {
      "cell_type": "markdown",
      "metadata": {
        "id": "NK0tcuyVBEfB",
        "colab_type": "text"
      },
      "source": [
        "### Creating the dataset\n",
        "Here we are creating the random dataset.\n",
        "The formula we are using is:      \n",
        "**y = random(from -3 to 20) + x - 4x^2 + 7x^3**\n"
      ]
    },
    {
      "cell_type": "code",
      "metadata": {
        "id": "DMkvNdoFBgrK",
        "colab_type": "code",
        "colab": {}
      },
      "source": [
        "np.random.seed(0)\n",
        "x = np.random.normal(0, 1, 20)\n",
        "y = np.random.normal(0, 1, 20)"
      ],
      "execution_count": 0,
      "outputs": []
    },
    {
      "cell_type": "code",
      "metadata": {
        "id": "PRqeNyB8B0oa",
        "colab_type": "code",
        "outputId": "a00b680a-3486-4a88-f630-7685ea2a3f56",
        "colab": {
          "base_uri": "https://localhost:8080/",
          "height": 265
        }
      },
      "source": [
        "plt.scatter(x,y, s=10)\n",
        "plt.show()"
      ],
      "execution_count": 3,
      "outputs": [
        {
          "output_type": "display_data",
          "data": {
            "image/png": "[encoded data removed]",
            "text/plain": [
              "<Figure size 432x288 with 1 Axes>"
            ]
          },
          "metadata": {
            "tags": []
          }
        }
      ]
    },
    {
      "cell_type": "code",
      "metadata": {
        "id": "2hpuvm4wV_ty",
        "colab_type": "code",
        "colab": {}
      },
      "source": [
        "#Making y a 2D database\n",
        "y = y[:, np.newaxis]"
      ],
      "execution_count": 0,
      "outputs": []
    },
    {
      "cell_type": "markdown",
      "metadata": {
        "id": "9T2lsllNCbcL",
        "colab_type": "text"
      },
      "source": [
        "### Doing Polynomial Regression\n",
        "In these cells, we are creating doing Polynomial Regression using **tensorflow**.\n",
        "\n",
        "First we have to modify the data so that it can be accpeted by tensorflow.\n",
        "\n",
        "Then we have to set some parameters like the optimizer and the loss function.\n",
        "\n",
        "Finnaly we train the model for 12000 steps"
      ]
    },
    {
      "cell_type": "code",
      "metadata": {
        "id": "GtT_XzNyWDdC",
        "colab_type": "code",
        "colab": {}
      },
      "source": [
        "deg=2\n",
        "W = tf.Variable(tf.random_normal([deg,1]), name='weight')\n",
        "#bias\n",
        "b = tf.Variable(tf.random_normal([1]), name='bias')"
      ],
      "execution_count": 0,
      "outputs": []
    },
    {
      "cell_type": "code",
      "metadata": {
        "id": "Vi7EJPpSWgpk",
        "colab_type": "code",
        "colab": {}
      },
      "source": [
        "x_=tf.placeholder(tf.float32,shape=[None,deg])\n",
        "y_=tf.placeholder(tf.float32,shape=[None, 1])"
      ],
      "execution_count": 0,
      "outputs": []
    },
    {
      "cell_type": "code",
      "metadata": {
        "id": "hOS-NT9LW0rx",
        "colab_type": "code",
        "colab": {}
      },
      "source": [
        "def modify_input(x,x_size,n_value):\n",
        "   x_new=np.zeros([x_size,n_value])    \n",
        "   for i in range(deg):\n",
        "      x_new[:,i]=np.power(x,(i+1))\n",
        "      x_new[:,i]=x_new[:,i]/np.max(x_new[:,i])\n",
        "   return x_new"
      ],
      "execution_count": 0,
      "outputs": []
    },
    {
      "cell_type": "code",
      "metadata": {
        "id": "AD-Qw-VtW_fq",
        "colab_type": "code",
        "colab": {}
      },
      "source": [
        "x_modified=modify_input(x,x.size,deg)\n",
        "Y_pred=tf.add(tf.matmul(x_,W),b)"
      ],
      "execution_count": 0,
      "outputs": []
    },
    {
      "cell_type": "code",
      "metadata": {
        "id": "M8wh6isSXiUQ",
        "colab_type": "code",
        "colab": {
          "base_uri": "https://localhost:8080/",
          "height": 218
        },
        "outputId": "4a35bb64-628b-4bc1-9701-9427141b8481"
      },
      "source": [
        "#algortihm\n",
        "loss = tf.reduce_mean(tf.square(Y_pred -y_ ))\n",
        "#training algorithm\n",
        "optimizer = tf.train.GradientDescentOptimizer(0.05).minimize(loss)\n",
        "#initializing the variables\n",
        "init = tf.global_variables_initializer()\n",
        "\n",
        "#starting the session session \n",
        "sess = tf.Session()\n",
        "sess.run(init)\n",
        "\n",
        "epoch=12000\n",
        "\n",
        "for step in range(epoch):     \n",
        "     _, c=sess.run([optimizer, loss], feed_dict={x_: x_modified, y_: y})\n",
        "     if step%1000==0 :\n",
        "       print (\"loss: \" + str(c))\n",
        "\n",
        "y_test=sess.run(Y_pred, feed_dict={x_:x_modified})"
      ],
      "execution_count": 9,
      "outputs": [
        {
          "output_type": "stream",
          "text": [
            "loss: 2.4484973\n",
            "loss: 1.3254359\n",
            "loss: 1.3242522\n",
            "loss: 1.3242308\n",
            "loss: 1.3242304\n",
            "loss: 1.3242304\n",
            "loss: 1.3242304\n",
            "loss: 1.3242304\n",
            "loss: 1.3242304\n",
            "loss: 1.3242304\n",
            "loss: 1.3242304\n",
            "loss: 1.3242304\n"
          ],
          "name": "stdout"
        }
      ]
    },
    {
      "cell_type": "markdown",
      "metadata": {
        "id": "vdNvmflACwfu",
        "colab_type": "text"
      },
      "source": [
        "### Calculating error\n",
        "Here we are calculating the mean_square_error and the R2 score."
      ]
    },
    {
      "cell_type": "code",
      "metadata": {
        "id": "Oow-Vm0iHcgc",
        "colab_type": "code",
        "outputId": "689d16ff-5dab-40f6-e181-b18437f9017b",
        "colab": {
          "base_uri": "https://localhost:8080/",
          "height": 50
        }
      },
      "source": [
        "rmse = np.sqrt(mean_squared_error(y,y_test))\n",
        "r2 = r2_score(y,y_test)\n",
        "print(rmse)\n",
        "print(r2)"
      ],
      "execution_count": 10,
      "outputs": [
        {
          "output_type": "stream",
          "text": [
            "1.1507521216059198\n",
            "0.06144049111930627\n"
          ],
          "name": "stdout"
        }
      ]
    },
    {
      "cell_type": "markdown",
      "metadata": {
        "id": "79jpsOwQDbeR",
        "colab_type": "text"
      },
      "source": [
        "### Visualising results\n",
        "First we find the function generated by polynomial regression, and then graph the results"
      ]
    },
    {
      "cell_type": "code",
      "metadata": {
        "id": "BY8vjEVn8vDz",
        "colab_type": "code",
        "colab": {
          "base_uri": "https://localhost:8080/",
          "height": 84
        },
        "outputId": "fe9e874d-d219-4b22-aaef-5154692ac073"
      },
      "source": [
        "print(\"Model paramters:\")\n",
        "print(sess.run(W))\n",
        "print(\"bias:%f\" %sess.run(b))"
      ],
      "execution_count": 11,
      "outputs": [
        {
          "output_type": "stream",
          "text": [
            "Model paramters:\n",
            "[[ 1.22756  ]\n",
            " [-1.6521428]]\n",
            "bias:0.088324\n"
          ],
          "name": "stdout"
        }
      ]
    },
    {
      "cell_type": "code",
      "metadata": {
        "colab_type": "code",
        "outputId": "cbb46e85-61f7-4d59-c3b4-7f08b543889c",
        "id": "EdhQiGRNDeMv",
        "colab": {
          "base_uri": "https://localhost:8080/",
          "height": 34
        }
      },
      "source": [
        "res = \"y = f(x) = \" + str(sess.run(b)[0])\n",
        "\n",
        "for i, r in enumerate(sess.run(W)):\n",
        "    res = res + \" + {}*x^{}\".format(\"%.2f\" % r[0], i + 1)\n",
        "\n",
        "print (res)"
      ],
      "execution_count": 12,
      "outputs": [
        {
          "output_type": "stream",
          "text": [
            "y = f(x) = 0.088324 + 1.23*x^1 + -1.65*x^2\n"
          ],
          "name": "stdout"
        }
      ]
    },
    {
      "cell_type": "code",
      "metadata": {
        "id": "LuJ4K6cQZJXs",
        "colab_type": "code",
        "colab": {
          "base_uri": "https://localhost:8080/",
          "height": 265
        },
        "outputId": "8613bb70-cfad-418a-b718-f1e08b2a16c3"
      },
      "source": [
        "plt.scatter(x, y, s=10)\n",
        "# sort the values of x before line plot\n",
        "sort_axis = operator.itemgetter(0)\n",
        "sorted_zip = sorted(zip(x,y_test), key=sort_axis)\n",
        "x, y_poly_pred = zip(*sorted_zip)\n",
        "plt.plot(x, y_poly_pred, color='red')\n",
        "plt.show()"
      ],
      "execution_count": 13,
      "outputs": [
        {
          "output_type": "display_data",
          "data": {
            "image/png": "[encoded data removed]",
            "text/plain": [
              "<Figure size 432x288 with 1 Axes>"
            ]
          },
          "metadata": {
            "tags": []
          }
        }
      ]
    },
    {
      "cell_type": "markdown",
      "metadata": {
        "id": "XXjj0atr9SqK",
        "colab_type": "text"
      },
      "source": [
        "### **Part 2: Polynomial Regression on imported Database**"
      ]
    },
    {
      "cell_type": "markdown",
      "metadata": {
        "colab_type": "text",
        "id": "Kj4qnipp9YMw"
      },
      "source": [
        "### Importing database\n",
        "We are importing the database from a **Position_Salaries.csv** from this link https://raw.githubusercontent.com/SiddhantAttavar/PolynomialRegression/master/Position_Salaries.csv.                          \n",
        "Then we create two arrays **X** and **Y** to store the data. **X** stores the level data and **Y** stores the salary data."
      ]
    },
    {
      "cell_type": "code",
      "metadata": {
        "id": "MlCfB5DxTR3O",
        "colab_type": "code",
        "outputId": "37ef1e62-c20c-4225-ff09-ede9b107cc33",
        "colab": {
          "base_uri": "https://localhost:8080/",
          "height": 202
        }
      },
      "source": [
        "# Importing the dataset\n",
        "url = 'https://raw.githubusercontent.com/SiddhantAttavar/PolynomialRegression/master/Position_Salaries.csv' \n",
        "datas = pd.read_csv(url) \n",
        "print(datas)"
      ],
      "execution_count": 14,
      "outputs": [
        {
          "output_type": "stream",
          "text": [
            "            Position  Level   Salary\n",
            "0   Business Analyst      1    45000\n",
            "1  Junior Consultant      2    50000\n",
            "2  Senior Consultant      3    60000\n",
            "3            Manager      4    80000\n",
            "4    Country Manager      5   110000\n",
            "5     Region Manager      6   150000\n",
            "6            Partner      7   200000\n",
            "7     Senior Partner      8   300000\n",
            "8            C-level      9   500000\n",
            "9                CEO     10  1000000\n"
          ],
          "name": "stdout"
        }
      ]
    },
    {
      "cell_type": "code",
      "metadata": {
        "id": "jYLfihqOToBy",
        "colab_type": "code",
        "colab": {}
      },
      "source": [
        "X = datas.iloc[:, 1].values \n",
        "Y = datas.iloc[:, 2].values \n",
        "Y = Y[:, np.newaxis]"
      ],
      "execution_count": 0,
      "outputs": []
    },
    {
      "cell_type": "code",
      "metadata": {
        "colab_type": "code",
        "outputId": "298e5aa3-a734-41d8-a718-a7ea03ef63fb",
        "id": "Ho3TJ8hk33ho",
        "colab": {
          "base_uri": "https://localhost:8080/",
          "height": 265
        }
      },
      "source": [
        "plt.scatter(X, Y, s=10)\n",
        "plt.show()"
      ],
      "execution_count": 16,
      "outputs": [
        {
          "output_type": "display_data",
          "data": {
            "image/png": "[encoded data removed]",
            "text/plain": [
              "<Figure size 432x288 with 1 Axes>"
            ]
          },
          "metadata": {
            "tags": []
          }
        }
      ]
    },
    {
      "cell_type": "markdown",
      "metadata": {
        "colab_type": "text",
        "id": "Ue9avnzr9k7A"
      },
      "source": [
        "### Doing Polynomial Regression\n",
        "In these cells, we are creating doing Polynomial Regression using **tensorflow**.\n",
        "\n",
        "First we have to modify the data so that it can be accpeted by tensorflow.\n",
        "\n",
        "Then we have to set some parameters like the optimizer and the loss function.\n",
        "\n",
        "Finnaly we train the model for 12000 steps"
      ]
    },
    {
      "cell_type": "code",
      "metadata": {
        "colab_type": "code",
        "id": "0GEKU2k333hr",
        "colab": {}
      },
      "source": [
        "deg = 2 #@param {type:\"slider\", min:1, max:20, step:1}\n",
        "W = tf.Variable(tf.random_normal([deg,1]), name='weight')\n",
        "#bias\n",
        "b = tf.Variable(tf.random_normal([1]), name='bias')"
      ],
      "execution_count": 0,
      "outputs": []
    },
    {
      "cell_type": "code",
      "metadata": {
        "colab_type": "code",
        "id": "bDjkj6wP33hu",
        "colab": {}
      },
      "source": [
        "X_=tf.placeholder(tf.float32,shape=[None,deg])\n",
        "Y_=tf.placeholder(tf.float32,shape=[None, 1])"
      ],
      "execution_count": 0,
      "outputs": []
    },
    {
      "cell_type": "code",
      "metadata": {
        "colab_type": "code",
        "id": "Drs_0mLR33hz",
        "colab": {}
      },
      "source": [
        "X_modified=modify_input(X,X.size,deg)\n",
        "Y_pred=tf.add(tf.matmul(X_,W),b)"
      ],
      "execution_count": 0,
      "outputs": []
    },
    {
      "cell_type": "code",
      "metadata": {
        "colab_type": "code",
        "outputId": "b63ec165-637c-4308-fca3-356b41204a4b",
        "id": "MANuYOJ233h1",
        "colab": {
          "base_uri": "https://localhost:8080/",
          "height": 218
        }
      },
      "source": [
        "#algortihm\n",
        "loss = tf.reduce_mean(tf.square(Y_pred -Y_ ))\n",
        "#training algorithm\n",
        "optimizer = tf.train.GradientDescentOptimizer(0.05).minimize(loss)\n",
        "#initializing the variables\n",
        "init = tf.global_variables_initializer()\n",
        "\n",
        "#starting the session session \n",
        "sess = tf.Session()\n",
        "sess.run(init)\n",
        "\n",
        "epoch=12000\n",
        "\n",
        "for step in range(epoch):     \n",
        "     _, c=sess.run([optimizer, loss], feed_dict={X_: X_modified, Y_: Y})\n",
        "     if step%1000==0 :\n",
        "       print (\"loss: \" + str(c))\n",
        "Y_test=sess.run(Y_pred, feed_dict={X_:X_modified})"
      ],
      "execution_count": 20,
      "outputs": [
        {
          "output_type": "stream",
          "text": [
            "loss: 142913540000.0\n",
            "loss: 14360017000.0\n",
            "loss: 11562736000.0\n",
            "loss: 9794872000.0\n",
            "loss: 8677595000.0\n",
            "loss: 7971484700.0\n",
            "loss: 7525219000.0\n",
            "loss: 7243189000.0\n",
            "loss: 7064943000.0\n",
            "loss: 6952298000.0\n",
            "loss: 6881107000.0\n",
            "loss: 6836113400.0\n"
          ],
          "name": "stdout"
        }
      ]
    },
    {
      "cell_type": "markdown",
      "metadata": {
        "colab_type": "text",
        "id": "2c0raZzR9u5h"
      },
      "source": [
        "### Calculating error\n",
        "Here we are calculating the mean_square_error and the R2 score."
      ]
    },
    {
      "cell_type": "code",
      "metadata": {
        "colab_type": "code",
        "outputId": "bffba4d1-24af-4e92-8d1f-da9c6cea4c0c",
        "id": "qbBOSVfE9yV5",
        "colab": {
          "base_uri": "https://localhost:8080/",
          "height": 50
        }
      },
      "source": [
        "rmse = np.sqrt(mean_squared_error(y,y_test))\n",
        "r2 = r2_score(y,y_test)\n",
        "print(rmse)\n",
        "print(r2)"
      ],
      "execution_count": 21,
      "outputs": [
        {
          "output_type": "stream",
          "text": [
            "1.1507521216059198\n",
            "0.06144049111930627\n"
          ],
          "name": "stdout"
        }
      ]
    },
    {
      "cell_type": "markdown",
      "metadata": {
        "colab_type": "text",
        "id": "j3CDb_ct91Lv"
      },
      "source": [
        "### Visualising results\n",
        "First we find the function generated by polynomial regression, and then graph the results"
      ]
    },
    {
      "cell_type": "code",
      "metadata": {
        "colab_type": "code",
        "id": "IRXo4-NO97gZ",
        "colab": {
          "base_uri": "https://localhost:8080/",
          "height": 84
        },
        "outputId": "d642650e-9ed5-44e2-fe6c-112ef0f3d067"
      },
      "source": [
        "print(\"Model paramters:\")\n",
        "print(sess.run(W))\n",
        "print(\"bias:%f\" %sess.run(b))"
      ],
      "execution_count": 22,
      "outputs": [
        {
          "output_type": "stream",
          "text": [
            "Model paramters:\n",
            "[[-1220569. ]\n",
            " [ 1847921.4]]\n",
            "bias:209310.765625\n"
          ],
          "name": "stdout"
        }
      ]
    },
    {
      "cell_type": "code",
      "metadata": {
        "colab_type": "code",
        "outputId": "23b547b3-f401-4f5c-a3b9-a154796852d1",
        "id": "83G0U4sZDfZk",
        "colab": {
          "base_uri": "https://localhost:8080/",
          "height": 34
        }
      },
      "source": [
        "res = \"y = f(x) = \" + str(sess.run(b)[0])\n",
        "\n",
        "for i, r in enumerate(sess.run(W)):\n",
        "    res = res + \" + {}*x^{}\".format(\"%.2f\" % r[0], i + 1)\n",
        "\n",
        "print (res)"
      ],
      "execution_count": 23,
      "outputs": [
        {
          "output_type": "stream",
          "text": [
            "y = f(x) = 209310.77 + -1220569.00*x^1 + 1847921.38*x^2\n"
          ],
          "name": "stdout"
        }
      ]
    },
    {
      "cell_type": "code",
      "metadata": {
        "colab_type": "code",
        "outputId": "083b9050-cd3e-4ed0-9d83-ebb656d2ac31",
        "id": "MxsYPuzF33h5",
        "colab": {
          "base_uri": "https://localhost:8080/",
          "height": 265
        }
      },
      "source": [
        "plt.scatter(X, Y, s=10)\n",
        "# sort the values of x before line plot\n",
        "sort_axis = operator.itemgetter(0)\n",
        "sorted_zip = sorted(zip(X,Y_test), key=sort_axis)\n",
        "X, Y_poly_pred = zip(*sorted_zip)\n",
        "plt.plot(X, Y_poly_pred, color='red')\n",
        "plt.show()"
      ],
      "execution_count": 24,
      "outputs": [
        {
          "output_type": "display_data",
          "data": {
            "image/png": "[encoded data removed]",
            "text/plain": [
              "<Figure size 432x288 with 1 Axes>"
            ]
          },
          "metadata": {
            "tags": []
          }
        }
      ]
    }
  ]
}